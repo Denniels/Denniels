{
 "cells": [
  {
   "cell_type": "markdown",
   "id": "f5aa385a",
   "metadata": {},
   "source": [
    "# Notebook de Demostración para Pyodide\n",
    "\n",
    "Este notebook es una demostración de Pyodide ejecutándose en el navegador."
   ]
  },
  {
   "cell_type": "code",
   "execution_count": null,
   "id": "2b9ef8d4",
   "metadata": {},
   "outputs": [],
   "source": [
    "import sys\n",
    "\n",
    "print(f\"Python {sys.version} funcionando en Pyodide\")"
   ]
  }
 ],
 "metadata": {
  "language_info": {
   "name": "python"
  }
 },
 "nbformat": 4,
 "nbformat_minor": 5
}
